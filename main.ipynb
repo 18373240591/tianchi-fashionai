{
 "cells": [
  {
   "cell_type": "code",
   "execution_count": 24,
   "metadata": {},
   "outputs": [],
   "source": [
    "%matplotlib inline\n",
    "import os\n",
    "import shutil\n",
    "import numpy as np\n",
    "import pandas as pd\n",
    "import matplotlib.pyplot as plt\n",
    "from keras.callbacks import TensorBoard, ModelCheckpoint, ReduceLROnPlateau, EarlyStopping\n",
    "from fashionai.data_util import extract_landmarks, scale_coordinates\n",
    "from fashionai.data_util import ImageData, DataSequence, train_test_split\n",
    "from fashionai.model import build_xception_model\n",
    "from fashionai.loss import NormalizedError, SquareNormalizedError\n",
    "from fashionai.utils import save_df_to_zip"
   ]
  },
  {
   "cell_type": "code",
   "execution_count": 2,
   "metadata": {},
   "outputs": [],
   "source": [
    "DATA_DIR = '/workspace/ssd/fashionai/'\n",
    "TRAIN_DATA_DIR = os.path.join(DATA_DIR, 'train')\n",
    "TRAIN_ANNO_FILE = os.path.join(TRAIN_DATA_DIR, 'Annotations/train.csv')\n",
    "\n",
    "# TEST_DATA_DIR = os.path.join(DATA_DIR, 'test')\n",
    "TEST_DATA_DIR = os.path.join(DATA_DIR, 'testb')\n",
    "TEST_ANNO_FILE = os.path.join(TEST_DATA_DIR, 'test.csv')"
   ]
  },
  {
   "cell_type": "code",
   "execution_count": 3,
   "metadata": {},
   "outputs": [],
   "source": [
    "train_anno = pd.read_csv(TRAIN_ANNO_FILE)\n",
    "test_anno = pd.read_csv(TEST_ANNO_FILE)"
   ]
  },
  {
   "cell_type": "code",
   "execution_count": 4,
   "metadata": {},
   "outputs": [
    {
     "data": {
      "text/html": [
       "<div>\n",
       "<style scoped>\n",
       "    .dataframe tbody tr th:only-of-type {\n",
       "        vertical-align: middle;\n",
       "    }\n",
       "\n",
       "    .dataframe tbody tr th {\n",
       "        vertical-align: top;\n",
       "    }\n",
       "\n",
       "    .dataframe thead th {\n",
       "        text-align: right;\n",
       "    }\n",
       "</style>\n",
       "<table border=\"1\" class=\"dataframe\">\n",
       "  <thead>\n",
       "    <tr style=\"text-align: right;\">\n",
       "      <th></th>\n",
       "      <th>image_id</th>\n",
       "      <th>image_category</th>\n",
       "      <th>neckline_left</th>\n",
       "      <th>neckline_right</th>\n",
       "      <th>center_front</th>\n",
       "      <th>shoulder_left</th>\n",
       "      <th>shoulder_right</th>\n",
       "      <th>armpit_left</th>\n",
       "      <th>armpit_right</th>\n",
       "      <th>waistline_left</th>\n",
       "      <th>...</th>\n",
       "      <th>top_hem_right</th>\n",
       "      <th>waistband_left</th>\n",
       "      <th>waistband_right</th>\n",
       "      <th>hemline_left</th>\n",
       "      <th>hemline_right</th>\n",
       "      <th>crotch</th>\n",
       "      <th>bottom_left_in</th>\n",
       "      <th>bottom_left_out</th>\n",
       "      <th>bottom_right_in</th>\n",
       "      <th>bottom_right_out</th>\n",
       "    </tr>\n",
       "  </thead>\n",
       "  <tbody>\n",
       "    <tr>\n",
       "      <th>0</th>\n",
       "      <td>Images/blouse/3578977274375a7ab75862852210b5f5...</td>\n",
       "      <td>blouse</td>\n",
       "      <td>209_130_1</td>\n",
       "      <td>291_141_0</td>\n",
       "      <td>238_164_1</td>\n",
       "      <td>176_135_1</td>\n",
       "      <td>329_160_1</td>\n",
       "      <td>170_216_0</td>\n",
       "      <td>296_269_1</td>\n",
       "      <td>-1_-1_-1</td>\n",
       "      <td>...</td>\n",
       "      <td>280_380_1</td>\n",
       "      <td>-1_-1_-1</td>\n",
       "      <td>-1_-1_-1</td>\n",
       "      <td>-1_-1_-1</td>\n",
       "      <td>-1_-1_-1</td>\n",
       "      <td>-1_-1_-1</td>\n",
       "      <td>-1_-1_-1</td>\n",
       "      <td>-1_-1_-1</td>\n",
       "      <td>-1_-1_-1</td>\n",
       "      <td>-1_-1_-1</td>\n",
       "    </tr>\n",
       "    <tr>\n",
       "      <th>1</th>\n",
       "      <td>Images/blouse/524eb709a171eab14598860253023d62...</td>\n",
       "      <td>blouse</td>\n",
       "      <td>232_104_1</td>\n",
       "      <td>293_114_1</td>\n",
       "      <td>269_144_1</td>\n",
       "      <td>210_108_1</td>\n",
       "      <td>314_122_0</td>\n",
       "      <td>215_142_1</td>\n",
       "      <td>310_158_0</td>\n",
       "      <td>-1_-1_-1</td>\n",
       "      <td>...</td>\n",
       "      <td>322_255_1</td>\n",
       "      <td>-1_-1_-1</td>\n",
       "      <td>-1_-1_-1</td>\n",
       "      <td>-1_-1_-1</td>\n",
       "      <td>-1_-1_-1</td>\n",
       "      <td>-1_-1_-1</td>\n",
       "      <td>-1_-1_-1</td>\n",
       "      <td>-1_-1_-1</td>\n",
       "      <td>-1_-1_-1</td>\n",
       "      <td>-1_-1_-1</td>\n",
       "    </tr>\n",
       "    <tr>\n",
       "      <th>2</th>\n",
       "      <td>Images/blouse/72e09104ad0d46d59379b32197a14d64...</td>\n",
       "      <td>blouse</td>\n",
       "      <td>215_161_1</td>\n",
       "      <td>267_157_1</td>\n",
       "      <td>241_165_1</td>\n",
       "      <td>173_182_1</td>\n",
       "      <td>310_182_1</td>\n",
       "      <td>180_251_1</td>\n",
       "      <td>306_252_1</td>\n",
       "      <td>-1_-1_-1</td>\n",
       "      <td>...</td>\n",
       "      <td>307_398_1</td>\n",
       "      <td>-1_-1_-1</td>\n",
       "      <td>-1_-1_-1</td>\n",
       "      <td>-1_-1_-1</td>\n",
       "      <td>-1_-1_-1</td>\n",
       "      <td>-1_-1_-1</td>\n",
       "      <td>-1_-1_-1</td>\n",
       "      <td>-1_-1_-1</td>\n",
       "      <td>-1_-1_-1</td>\n",
       "      <td>-1_-1_-1</td>\n",
       "    </tr>\n",
       "    <tr>\n",
       "      <th>3</th>\n",
       "      <td>Images/blouse/ff068d86d60181edea224ffb16d1dbe8...</td>\n",
       "      <td>blouse</td>\n",
       "      <td>202_125_1</td>\n",
       "      <td>252_122_1</td>\n",
       "      <td>226_138_1</td>\n",
       "      <td>149_144_1</td>\n",
       "      <td>301_153_1</td>\n",
       "      <td>171_199_1</td>\n",
       "      <td>284_205_1</td>\n",
       "      <td>-1_-1_-1</td>\n",
       "      <td>...</td>\n",
       "      <td>276_337_1</td>\n",
       "      <td>-1_-1_-1</td>\n",
       "      <td>-1_-1_-1</td>\n",
       "      <td>-1_-1_-1</td>\n",
       "      <td>-1_-1_-1</td>\n",
       "      <td>-1_-1_-1</td>\n",
       "      <td>-1_-1_-1</td>\n",
       "      <td>-1_-1_-1</td>\n",
       "      <td>-1_-1_-1</td>\n",
       "      <td>-1_-1_-1</td>\n",
       "    </tr>\n",
       "    <tr>\n",
       "      <th>4</th>\n",
       "      <td>Images/blouse/d5def3258cee180b9af54505ecfaa2e0...</td>\n",
       "      <td>blouse</td>\n",
       "      <td>243_169_0</td>\n",
       "      <td>341_171_0</td>\n",
       "      <td>270_193_0</td>\n",
       "      <td>209_181_0</td>\n",
       "      <td>384_202_1</td>\n",
       "      <td>188_266_1</td>\n",
       "      <td>333_271_0</td>\n",
       "      <td>-1_-1_-1</td>\n",
       "      <td>...</td>\n",
       "      <td>384_464_1</td>\n",
       "      <td>-1_-1_-1</td>\n",
       "      <td>-1_-1_-1</td>\n",
       "      <td>-1_-1_-1</td>\n",
       "      <td>-1_-1_-1</td>\n",
       "      <td>-1_-1_-1</td>\n",
       "      <td>-1_-1_-1</td>\n",
       "      <td>-1_-1_-1</td>\n",
       "      <td>-1_-1_-1</td>\n",
       "      <td>-1_-1_-1</td>\n",
       "    </tr>\n",
       "  </tbody>\n",
       "</table>\n",
       "<p>5 rows × 26 columns</p>\n",
       "</div>"
      ],
      "text/plain": [
       "                                            image_id image_category  \\\n",
       "0  Images/blouse/3578977274375a7ab75862852210b5f5...         blouse   \n",
       "1  Images/blouse/524eb709a171eab14598860253023d62...         blouse   \n",
       "2  Images/blouse/72e09104ad0d46d59379b32197a14d64...         blouse   \n",
       "3  Images/blouse/ff068d86d60181edea224ffb16d1dbe8...         blouse   \n",
       "4  Images/blouse/d5def3258cee180b9af54505ecfaa2e0...         blouse   \n",
       "\n",
       "  neckline_left neckline_right center_front shoulder_left shoulder_right  \\\n",
       "0     209_130_1      291_141_0    238_164_1     176_135_1      329_160_1   \n",
       "1     232_104_1      293_114_1    269_144_1     210_108_1      314_122_0   \n",
       "2     215_161_1      267_157_1    241_165_1     173_182_1      310_182_1   \n",
       "3     202_125_1      252_122_1    226_138_1     149_144_1      301_153_1   \n",
       "4     243_169_0      341_171_0    270_193_0     209_181_0      384_202_1   \n",
       "\n",
       "  armpit_left armpit_right waistline_left       ...        top_hem_right  \\\n",
       "0   170_216_0    296_269_1       -1_-1_-1       ...            280_380_1   \n",
       "1   215_142_1    310_158_0       -1_-1_-1       ...            322_255_1   \n",
       "2   180_251_1    306_252_1       -1_-1_-1       ...            307_398_1   \n",
       "3   171_199_1    284_205_1       -1_-1_-1       ...            276_337_1   \n",
       "4   188_266_1    333_271_0       -1_-1_-1       ...            384_464_1   \n",
       "\n",
       "  waistband_left waistband_right hemline_left hemline_right    crotch  \\\n",
       "0       -1_-1_-1        -1_-1_-1     -1_-1_-1      -1_-1_-1  -1_-1_-1   \n",
       "1       -1_-1_-1        -1_-1_-1     -1_-1_-1      -1_-1_-1  -1_-1_-1   \n",
       "2       -1_-1_-1        -1_-1_-1     -1_-1_-1      -1_-1_-1  -1_-1_-1   \n",
       "3       -1_-1_-1        -1_-1_-1     -1_-1_-1      -1_-1_-1  -1_-1_-1   \n",
       "4       -1_-1_-1        -1_-1_-1     -1_-1_-1      -1_-1_-1  -1_-1_-1   \n",
       "\n",
       "  bottom_left_in bottom_left_out bottom_right_in bottom_right_out  \n",
       "0       -1_-1_-1        -1_-1_-1        -1_-1_-1         -1_-1_-1  \n",
       "1       -1_-1_-1        -1_-1_-1        -1_-1_-1         -1_-1_-1  \n",
       "2       -1_-1_-1        -1_-1_-1        -1_-1_-1         -1_-1_-1  \n",
       "3       -1_-1_-1        -1_-1_-1        -1_-1_-1         -1_-1_-1  \n",
       "4       -1_-1_-1        -1_-1_-1        -1_-1_-1         -1_-1_-1  \n",
       "\n",
       "[5 rows x 26 columns]"
      ]
     },
     "execution_count": 4,
     "metadata": {},
     "output_type": "execute_result"
    }
   ],
   "source": [
    "train_anno.head()"
   ]
  },
  {
   "cell_type": "code",
   "execution_count": 5,
   "metadata": {},
   "outputs": [
    {
     "data": {
      "text/html": [
       "<div>\n",
       "<style scoped>\n",
       "    .dataframe tbody tr th:only-of-type {\n",
       "        vertical-align: middle;\n",
       "    }\n",
       "\n",
       "    .dataframe tbody tr th {\n",
       "        vertical-align: top;\n",
       "    }\n",
       "\n",
       "    .dataframe thead th {\n",
       "        text-align: right;\n",
       "    }\n",
       "</style>\n",
       "<table border=\"1\" class=\"dataframe\">\n",
       "  <thead>\n",
       "    <tr style=\"text-align: right;\">\n",
       "      <th></th>\n",
       "      <th>image_id</th>\n",
       "      <th>image_category</th>\n",
       "    </tr>\n",
       "  </thead>\n",
       "  <tbody>\n",
       "    <tr>\n",
       "      <th>0</th>\n",
       "      <td>Images/blouse/e21708ac483bc37679b26d064650bd40...</td>\n",
       "      <td>blouse</td>\n",
       "    </tr>\n",
       "    <tr>\n",
       "      <th>1</th>\n",
       "      <td>Images/blouse/6089d5c425308edaaf418a74c684a8fc...</td>\n",
       "      <td>blouse</td>\n",
       "    </tr>\n",
       "    <tr>\n",
       "      <th>2</th>\n",
       "      <td>Images/blouse/e6b066c5022da7666e1a0245b160f7a3...</td>\n",
       "      <td>blouse</td>\n",
       "    </tr>\n",
       "    <tr>\n",
       "      <th>3</th>\n",
       "      <td>Images/blouse/17eff8648aeceea2006d8ef9923e4722...</td>\n",
       "      <td>blouse</td>\n",
       "    </tr>\n",
       "    <tr>\n",
       "      <th>4</th>\n",
       "      <td>Images/blouse/e802cc5029e33753680e2937f8293a93...</td>\n",
       "      <td>blouse</td>\n",
       "    </tr>\n",
       "  </tbody>\n",
       "</table>\n",
       "</div>"
      ],
      "text/plain": [
       "                                            image_id image_category\n",
       "0  Images/blouse/e21708ac483bc37679b26d064650bd40...         blouse\n",
       "1  Images/blouse/6089d5c425308edaaf418a74c684a8fc...         blouse\n",
       "2  Images/blouse/e6b066c5022da7666e1a0245b160f7a3...         blouse\n",
       "3  Images/blouse/17eff8648aeceea2006d8ef9923e4722...         blouse\n",
       "4  Images/blouse/e802cc5029e33753680e2937f8293a93...         blouse"
      ]
     },
     "execution_count": 5,
     "metadata": {},
     "output_type": "execute_result"
    }
   ],
   "source": [
    "test_anno.head()"
   ]
  },
  {
   "cell_type": "markdown",
   "metadata": {},
   "source": [
    "把不存在归一化参数的样本丢弃，即不存在腋窝点的上衣、外套、连衣裙，不存在裤头的裤子和半身裙"
   ]
  },
  {
   "cell_type": "code",
   "execution_count": 6,
   "metadata": {},
   "outputs": [],
   "source": [
    "NO_LANDMARK_SYM = '-1_-1_-1'\n",
    "\n",
    "is_blouse = (train_anno.image_category == 'blouse')\n",
    "is_outwear = (train_anno.image_category == 'outwear')\n",
    "is_dress = (train_anno.image_category == 'dress')\n",
    "is_trousers = (train_anno.image_category == 'trousers')\n",
    "is_skirt = (train_anno.image_category == 'skirt')\n",
    "\n",
    "no_armpit = ((train_anno.armpit_left == NO_LANDMARK_SYM) | (train_anno.armpit_right == NO_LANDMARK_SYM))\n",
    "no_waistband = ((train_anno.waistband_left == NO_LANDMARK_SYM) | (train_anno.waistband_right == NO_LANDMARK_SYM))\n",
    "\n",
    "bad_sample = ((is_blouse & no_armpit) | (is_dress & no_armpit) | (is_outwear & no_armpit) |\n",
    "              (is_trousers & no_waistband) | (is_skirt & no_waistband))"
   ]
  },
  {
   "cell_type": "code",
   "execution_count": 7,
   "metadata": {},
   "outputs": [
    {
     "name": "stdout",
     "output_type": "stream",
     "text": [
      "136 samples are without armpit or waistband.\n"
     ]
    }
   ],
   "source": [
    "print(np.sum(bad_sample), 'samples are without armpit or waistband.')\n",
    "train_anno = train_anno.loc[~bad_sample]"
   ]
  },
  {
   "cell_type": "markdown",
   "metadata": {},
   "source": [
    "landmark 对应的编号"
   ]
  },
  {
   "cell_type": "code",
   "execution_count": 8,
   "metadata": {},
   "outputs": [
    {
     "data": {
      "text/plain": [
       "[(0, 'neckline_left'),\n",
       " (1, 'neckline_right'),\n",
       " (2, 'center_front'),\n",
       " (3, 'shoulder_left'),\n",
       " (4, 'shoulder_right'),\n",
       " (5, 'armpit_left'),\n",
       " (6, 'armpit_right'),\n",
       " (7, 'waistline_left'),\n",
       " (8, 'waistline_right'),\n",
       " (9, 'cuff_left_in'),\n",
       " (10, 'cuff_left_out'),\n",
       " (11, 'cuff_right_in'),\n",
       " (12, 'cuff_right_out'),\n",
       " (13, 'top_hem_left'),\n",
       " (14, 'top_hem_right'),\n",
       " (15, 'waistband_left'),\n",
       " (16, 'waistband_right'),\n",
       " (17, 'hemline_left'),\n",
       " (18, 'hemline_right'),\n",
       " (19, 'crotch'),\n",
       " (20, 'bottom_left_in'),\n",
       " (21, 'bottom_left_out'),\n",
       " (22, 'bottom_right_in'),\n",
       " (23, 'bottom_right_out')]"
      ]
     },
     "execution_count": 8,
     "metadata": {},
     "output_type": "execute_result"
    }
   ],
   "source": [
    "landmark_types = train_anno.columns.values[2:].tolist()\n",
    "list(zip(range(len(landmark_types)), landmark_types))"
   ]
  },
  {
   "cell_type": "markdown",
   "metadata": {},
   "source": [
    "将 category 信息变成整数，从 dataframe 中抽取 landmark 的坐标和可见性"
   ]
  },
  {
   "cell_type": "code",
   "execution_count": 9,
   "metadata": {},
   "outputs": [],
   "source": [
    "img_cate_map = dict(zip(train_anno.image_category.unique(),  \n",
    "                        range(train_anno.image_category.nunique())))\n",
    "rev_img_cate_map = {v: k for k, v in img_cate_map.items()}\n",
    "\n",
    "train_img_ids = train_anno.image_id.values\n",
    "train_img_cats = train_anno.image_category.map(img_cate_map.get).values\n",
    "train_landmark_pos, train_landmark_vis = extract_landmarks(train_anno.iloc[:, 2:].values)\n",
    "\n",
    "test_img_ids = test_anno.image_id.values\n",
    "test_img_cats = test_anno.image_category.map(img_cate_map.get).values"
   ]
  },
  {
   "cell_type": "markdown",
   "metadata": {},
   "source": [
    "把不可见的点坐标全部设置为0，并转换到 `[0, 1]` 的区间中"
   ]
  },
  {
   "cell_type": "code",
   "execution_count": 10,
   "metadata": {},
   "outputs": [],
   "source": [
    "SOURCE_SHAPE = (512, 512)\n",
    "TARGET_SHAPE = (224, 224)\n",
    "\n",
    "AS_GREY = False\n",
    "\n",
    "train_landmark_pos[train_landmark_pos < 0] = 0\n",
    "train_landmark_pos = scale_coordinates(train_landmark_pos, SOURCE_SHAPE, (1, 1))"
   ]
  },
  {
   "cell_type": "code",
   "execution_count": 11,
   "metadata": {},
   "outputs": [],
   "source": [
    "train_imgs = ImageData(train_img_ids, TRAIN_DATA_DIR, normalize=False,\n",
    "                       source_shape=SOURCE_SHAPE,\n",
    "                       target_shape=TARGET_SHAPE, \n",
    "                       as_grey=AS_GREY)\n",
    "\n",
    "test_imgs = ImageData(test_img_ids, TEST_DATA_DIR, normalize=False,\n",
    "                      source_shape=SOURCE_SHAPE,\n",
    "                      target_shape=TARGET_SHAPE, \n",
    "                      as_grey=AS_GREY)"
   ]
  },
  {
   "cell_type": "code",
   "execution_count": 12,
   "metadata": {},
   "outputs": [],
   "source": [
    "def imshow(img, landmarks=None, landmark_coords=(1, 1)):\n",
    "    cmap = 'gray' if img.shape[-1] == 1 else None\n",
    "    img = img.squeeze()\n",
    "    plt.imshow(img, cmap=cmap)\n",
    "    if isinstance(landmarks, np.ndarray):\n",
    "        xys = landmarks.reshape(-1, 2).copy()\n",
    "        xys[:, 0] *= img.shape[0] / landmark_coords[0]\n",
    "        xys[:, 1] *= img.shape[1] / landmark_coords[1]\n",
    "        for p in xys:\n",
    "            plt.scatter(p[0], p[1])"
   ]
  },
  {
   "cell_type": "markdown",
   "metadata": {},
   "source": [
    "拿一个样本出来看看"
   ]
  },
  {
   "cell_type": "code",
   "execution_count": 13,
   "metadata": {},
   "outputs": [
    {
     "data": {
      "image/png": "[encoded data removed]",
      "text/plain": [
       "<matplotlib.figure.Figure at 0x7f663ac88eb8>"
      ]
     },
     "metadata": {},
     "output_type": "display_data"
    }
   ],
   "source": [
    "imshow(train_imgs[0], train_landmark_pos[0])"
   ]
  },
  {
   "cell_type": "code",
   "execution_count": 16,
   "metadata": {},
   "outputs": [
    {
     "name": "stdout",
     "output_type": "stream",
     "text": [
      "__________________________________________________________________________________________________\n",
      "Layer (type)                    Output Shape         Param #     Connected to                     \n",
      "==================================================================================================\n",
      "input_2 (InputLayer)            (None, 1)            0                                            \n",
      "__________________________________________________________________________________________________\n",
      "embedding_1 (Embedding)         (None, 1, 24)        120         input_2[0][0]                    \n",
      "__________________________________________________________________________________________________\n",
      "input_1 (InputLayer)            (None, 224, 224, 3)  0                                            \n",
      "__________________________________________________________________________________________________\n",
      "reshape_1 (Reshape)             (None, 24)           0           embedding_1[0][0]                \n",
      "__________________________________________________________________________________________________\n",
      "xception (Model)                (None, 7, 7, 2048)   20861480    input_1[0][0]                    \n",
      "__________________________________________________________________________________________________\n",
      "softmax_1 (Softmax)             (None, 24)           0           reshape_1[0][0]                  \n",
      "__________________________________________________________________________________________________\n",
      "global_average_pooling2d_1 (Glo (None, 2048)         0           xception[1][0]                   \n",
      "__________________________________________________________________________________________________\n",
      "repeat_vector_1 (RepeatVector)  (None, 2, 24)        0           softmax_1[0][0]                  \n",
      "__________________________________________________________________________________________________\n",
      "dense_1 (Dense)                 (None, 48)           98352       global_average_pooling2d_1[0][0] \n",
      "__________________________________________________________________________________________________\n",
      "reshape_2 (Reshape)             (None, 48)           0           repeat_vector_1[0][0]            \n",
      "__________________________________________________________________________________________________\n",
      "multiply_1 (Multiply)           (None, 48)           0           dense_1[0][0]                    \n",
      "                                                                 reshape_2[0][0]                  \n",
      "==================================================================================================\n",
      "Total params: 20,959,952\n",
      "Trainable params: 20,905,424\n",
      "Non-trainable params: 54,528\n",
      "__________________________________________________________________________________________________\n"
     ]
    }
   ],
   "source": [
    "num_cat = len(img_cate_map)\n",
    "num_lm = train_landmark_vis.shape[1]\n",
    "input_shape = train_imgs.shape[1:]\n",
    "\n",
    "model = build_xception_model(input_shape, num_cat, num_lm)\n",
    "model.name = 'xception'\n",
    "model.summary()"
   ]
  },
  {
   "cell_type": "markdown",
   "metadata": {},
   "source": [
    "用来归一化的 landmark 坐标"
   ]
  },
  {
   "cell_type": "code",
   "execution_count": 18,
   "metadata": {},
   "outputs": [
    {
     "data": {
      "text/plain": [
       "[5, 6, 15, 16]"
      ]
     },
     "execution_count": 18,
     "metadata": {},
     "output_type": "execute_result"
    }
   ],
   "source": [
    "landmark_normalizer_indices = [\n",
    "    landmark_types.index('armpit_left'),\n",
    "    landmark_types.index('armpit_right'),\n",
    "    landmark_types.index('waistband_left'),\n",
    "    landmark_types.index('waistband_right')\n",
    "]\n",
    "landmark_normalizer_indices"
   ]
  },
  {
   "cell_type": "markdown",
   "metadata": {},
   "source": [
    "用这些坐标构建 loss 函数"
   ]
  },
  {
   "cell_type": "code",
   "execution_count": 21,
   "metadata": {},
   "outputs": [],
   "source": [
    "square_ne = SquareNormalizedError(landmark_normalizer_indices)\n",
    "ne = NormalizedError(square_ne)"
   ]
  },
  {
   "cell_type": "markdown",
   "metadata": {},
   "source": [
    "compile 模型"
   ]
  },
  {
   "cell_type": "code",
   "execution_count": 22,
   "metadata": {},
   "outputs": [],
   "source": [
    "model.compile(optimizer='adam', loss=square_ne, metrics=[ne])"
   ]
  },
  {
   "cell_type": "markdown",
   "metadata": {},
   "source": [
    "切分训练测试集，配置好 callbacks\n",
    "\n",
    "- `TensorBoard` 可以记录训练的过程中 loss 的变化，方便你进行不同模型之间的对比\n",
    "- `ModelCheckpoint` 可以把当前最好的模型给保存下来，如果中途中断训练，也方便后续把模型 load 回来\n",
    "- `ReduceLROnPlateau` 当 loss 不再下降的时候，降低学习率\n",
    "- `EarlyStopping` 当 loss 不再下降时，中断训练\n",
    "\n",
    "因为有了 EarlyStopping 这个 callback，可以设置一个很大的 `epochs` 然后关掉显示器去干其他事情。实际情况下，\n",
    "训练30-40个epochs左右模型会停下来，我用的是 `1080 Ti`，大约需要3-4个小时。"
   ]
  },
  {
   "cell_type": "code",
   "execution_count": 25,
   "metadata": {},
   "outputs": [],
   "source": [
    "train_seq, val_seq = train_test_split([train_imgs, train_img_cats], train_landmark_pos,\n",
    "                                      batch_size=16,\n",
    "                                      num_samples=len(train_landmark_pos), \n",
    "                                      validation_split=0.1)\n",
    "\n",
    "base_log_dir = './logs'\n",
    "os.makedirs(base_log_dir, exist_ok=True)\n",
    "\n",
    "log_dir = os.path.join(base_log_dir, model.name)\n",
    "shutil.rmtree(log_dir, ignore_errors=True)\n",
    "os.makedirs(log_dir, exist_ok=True)\n",
    "\n",
    "model_save_path = os.path.join(log_dir, model.name + '.hdf5')\n",
    "\n",
    "callbacks = [\n",
    "    TensorBoard(log_dir, batch_size=train_seq.batch_size),\n",
    "    ModelCheckpoint(model_save_path, monitor='val_ne', verbose=1, save_best_only=True),\n",
    "    ReduceLROnPlateau('val_ne', factor=0.1, patience=3, verbose=1, mode='min'),\n",
    "    EarlyStopping('val_ne', patience=5, mode='min')\n",
    "]"
   ]
  },
  {
   "cell_type": "code",
   "execution_count": null,
   "metadata": {},
   "outputs": [],
   "source": [
    "model.fit_generator(train_seq, \n",
    "                    epochs=100, \n",
    "                    callbacks=callbacks,\n",
    "                    validation_data=val_seq,\n",
    "                    workers=4, \n",
    "                    use_multiprocessing=True)"
   ]
  },
  {
   "cell_type": "code",
   "execution_count": 28,
   "metadata": {},
   "outputs": [],
   "source": [
    "model.load_weights(model_save_path)"
   ]
  },
  {
   "cell_type": "code",
   "execution_count": 29,
   "metadata": {},
   "outputs": [
    {
     "name": "stdout",
     "output_type": "stream",
     "text": [
      "\r",
      "16/16 [==============================] - 0s 27ms/step\n"
     ]
    }
   ],
   "source": [
    "samples = val_seq[0][0]\n",
    "preds = model.predict(samples, verbose=1)"
   ]
  },
  {
   "cell_type": "markdown",
   "metadata": {},
   "source": [
    "大概看一下在验证集下的表现，这里是把所有点都显示出来了，因此会发现有一些点很飘，并不是预测错误，而是该图片中不存在这个 landmark，比如裤子的图片上是没有领口的landmark的"
   ]
  },
  {
   "cell_type": "code",
   "execution_count": 32,
   "metadata": {},
   "outputs": [
    {
     "data": {
      "text/plain": [
       "<matplotlib.collections.PathCollection at 0x7f66aa0fab70>"
      ]
     },
     "execution_count": 32,
     "metadata": {},
     "output_type": "execute_result"
    },
    {
     "data": {
      "image/png": "[encoded data removed]",
      "text/plain": [
       "<matplotlib.figure.Figure at 0x7f630f497860>"
      ]
     },
     "metadata": {},
     "output_type": "display_data"
    }
   ],
   "source": [
    "sample_id = np.random.randint(0, len(samples[0]))\n",
    "sample_img = samples[0][sample_id].squeeze()\n",
    "plt.imshow(sample_img, cmap='gray')\n",
    "xys = preds[sample_id].reshape(-1, 2) * TARGET_SHAPE\n",
    "plt.scatter(xys[:, 0], xys[:, 1], c='green')"
   ]
  },
  {
   "cell_type": "markdown",
   "metadata": {},
   "source": [
    "对 test 数据进行预测"
   ]
  },
  {
   "cell_type": "code",
   "execution_count": 33,
   "metadata": {},
   "outputs": [],
   "source": [
    "test_data = DataSequence([test_imgs, test_img_cats],\n",
    "                         num_samples=len(test_imgs), \n",
    "                         batch_size=16,\n",
    "                         shuffle=False)"
   ]
  },
  {
   "cell_type": "code",
   "execution_count": 34,
   "metadata": {},
   "outputs": [
    {
     "name": "stdout",
     "output_type": "stream",
     "text": [
      "624/624 [==============================] - 54s 87ms/step\n"
     ]
    }
   ],
   "source": [
    "preds = model.predict_generator(test_data, verbose=True, workers=4, use_multiprocessing=True)"
   ]
  },
  {
   "cell_type": "markdown",
   "metadata": {},
   "source": [
    "肉眼看一下有没有严重 bug"
   ]
  },
  {
   "cell_type": "code",
   "execution_count": 38,
   "metadata": {},
   "outputs": [
    {
     "data": {
      "image/png": "[encoded data removed]",
      "text/plain": [
       "<matplotlib.figure.Figure at 0x7f631431acc0>"
      ]
     },
     "metadata": {},
     "output_type": "display_data"
    }
   ],
   "source": [
    "sample_id = np.random.randint(0, len(preds))\n",
    "sample_img = test_imgs[sample_id]\n",
    "imshow(sample_img, preds[sample_id])"
   ]
  },
  {
   "cell_type": "markdown",
   "metadata": {},
   "source": [
    "输出答案，注意要把坐标点的范围从 [0, 1] 还原成 [0, 512]"
   ]
  },
  {
   "cell_type": "code",
   "execution_count": 39,
   "metadata": {},
   "outputs": [],
   "source": [
    "preds = preds * 512"
   ]
  },
  {
   "cell_type": "code",
   "execution_count": 40,
   "metadata": {},
   "outputs": [],
   "source": [
    "def make_submission(predictions, column_names=None):\n",
    "    predictions = np.round(predictions).astype('int')\n",
    "    predictions = np.clip(predictions, 0, 512)\n",
    "    predictions = predictions.reshape(-1, 24, 2)\n",
    "    res = []\n",
    "    for lms in predictions:\n",
    "        lms = ['{}_{}_1'.format(*lm) for lm in lms]\n",
    "        res.append(lms)\n",
    "    res = pd.DataFrame.from_records(res)\n",
    "    res.columns = column_names\n",
    "    return res"
   ]
  },
  {
   "cell_type": "code",
   "execution_count": 41,
   "metadata": {},
   "outputs": [],
   "source": [
    "submit_df = make_submission(preds, train_anno.columns[2:])"
   ]
  },
  {
   "cell_type": "code",
   "execution_count": 42,
   "metadata": {},
   "outputs": [],
   "source": [
    "submit_df = pd.concat([test_anno, submit_df], axis=1)"
   ]
  },
  {
   "cell_type": "code",
   "execution_count": 44,
   "metadata": {},
   "outputs": [
    {
     "data": {
      "text/html": [
       "<div>\n",
       "<style scoped>\n",
       "    .dataframe tbody tr th:only-of-type {\n",
       "        vertical-align: middle;\n",
       "    }\n",
       "\n",
       "    .dataframe tbody tr th {\n",
       "        vertical-align: top;\n",
       "    }\n",
       "\n",
       "    .dataframe thead th {\n",
       "        text-align: right;\n",
       "    }\n",
       "</style>\n",
       "<table border=\"1\" class=\"dataframe\">\n",
       "  <thead>\n",
       "    <tr style=\"text-align: right;\">\n",
       "      <th></th>\n",
       "      <th>image_id</th>\n",
       "      <th>image_category</th>\n",
       "      <th>neckline_left</th>\n",
       "      <th>neckline_right</th>\n",
       "      <th>center_front</th>\n",
       "      <th>shoulder_left</th>\n",
       "      <th>shoulder_right</th>\n",
       "      <th>armpit_left</th>\n",
       "      <th>armpit_right</th>\n",
       "      <th>waistline_left</th>\n",
       "      <th>...</th>\n",
       "      <th>top_hem_right</th>\n",
       "      <th>waistband_left</th>\n",
       "      <th>waistband_right</th>\n",
       "      <th>hemline_left</th>\n",
       "      <th>hemline_right</th>\n",
       "      <th>crotch</th>\n",
       "      <th>bottom_left_in</th>\n",
       "      <th>bottom_left_out</th>\n",
       "      <th>bottom_right_in</th>\n",
       "      <th>bottom_right_out</th>\n",
       "    </tr>\n",
       "  </thead>\n",
       "  <tbody>\n",
       "    <tr>\n",
       "      <th>0</th>\n",
       "      <td>Images/blouse/e21708ac483bc37679b26d064650bd40...</td>\n",
       "      <td>blouse</td>\n",
       "      <td>148_85_1</td>\n",
       "      <td>271_83_1</td>\n",
       "      <td>210_138_1</td>\n",
       "      <td>117_104_1</td>\n",
       "      <td>301_101_1</td>\n",
       "      <td>126_195_1</td>\n",
       "      <td>297_190_1</td>\n",
       "      <td>131_268_1</td>\n",
       "      <td>...</td>\n",
       "      <td>319_391_1</td>\n",
       "      <td>140_115_1</td>\n",
       "      <td>330_118_1</td>\n",
       "      <td>117_405_1</td>\n",
       "      <td>352_432_1</td>\n",
       "      <td>240_321_1</td>\n",
       "      <td>255_433_1</td>\n",
       "      <td>135_409_1</td>\n",
       "      <td>265_462_1</td>\n",
       "      <td>362_427_1</td>\n",
       "    </tr>\n",
       "    <tr>\n",
       "      <th>1</th>\n",
       "      <td>Images/blouse/6089d5c425308edaaf418a74c684a8fc...</td>\n",
       "      <td>blouse</td>\n",
       "      <td>237_148_1</td>\n",
       "      <td>302_144_1</td>\n",
       "      <td>265_172_1</td>\n",
       "      <td>203_166_1</td>\n",
       "      <td>336_163_1</td>\n",
       "      <td>201_234_1</td>\n",
       "      <td>331_236_1</td>\n",
       "      <td>192_291_1</td>\n",
       "      <td>...</td>\n",
       "      <td>334_372_1</td>\n",
       "      <td>227_264_1</td>\n",
       "      <td>346_267_1</td>\n",
       "      <td>182_440_1</td>\n",
       "      <td>332_461_1</td>\n",
       "      <td>284_421_1</td>\n",
       "      <td>285_462_1</td>\n",
       "      <td>213_453_1</td>\n",
       "      <td>285_475_1</td>\n",
       "      <td>334_457_1</td>\n",
       "    </tr>\n",
       "    <tr>\n",
       "      <th>2</th>\n",
       "      <td>Images/blouse/e6b066c5022da7666e1a0245b160f7a3...</td>\n",
       "      <td>blouse</td>\n",
       "      <td>208_166_1</td>\n",
       "      <td>252_164_1</td>\n",
       "      <td>229_169_1</td>\n",
       "      <td>174_185_1</td>\n",
       "      <td>287_178_1</td>\n",
       "      <td>180_238_1</td>\n",
       "      <td>283_236_1</td>\n",
       "      <td>177_281_1</td>\n",
       "      <td>...</td>\n",
       "      <td>281_296_1</td>\n",
       "      <td>212_311_1</td>\n",
       "      <td>293_311_1</td>\n",
       "      <td>183_450_1</td>\n",
       "      <td>304_434_1</td>\n",
       "      <td>263_407_1</td>\n",
       "      <td>274_473_1</td>\n",
       "      <td>224_472_1</td>\n",
       "      <td>270_459_1</td>\n",
       "      <td>295_440_1</td>\n",
       "    </tr>\n",
       "    <tr>\n",
       "      <th>3</th>\n",
       "      <td>Images/blouse/17eff8648aeceea2006d8ef9923e4722...</td>\n",
       "      <td>blouse</td>\n",
       "      <td>140_77_1</td>\n",
       "      <td>256_41_1</td>\n",
       "      <td>218_67_1</td>\n",
       "      <td>95_130_1</td>\n",
       "      <td>322_54_1</td>\n",
       "      <td>145_231_1</td>\n",
       "      <td>348_163_1</td>\n",
       "      <td>179_322_1</td>\n",
       "      <td>...</td>\n",
       "      <td>393_315_1</td>\n",
       "      <td>176_157_1</td>\n",
       "      <td>369_103_1</td>\n",
       "      <td>192_476_1</td>\n",
       "      <td>446_425_1</td>\n",
       "      <td>326_408_1</td>\n",
       "      <td>352_480_1</td>\n",
       "      <td>229_487_1</td>\n",
       "      <td>373_461_1</td>\n",
       "      <td>445_416_1</td>\n",
       "    </tr>\n",
       "    <tr>\n",
       "      <th>4</th>\n",
       "      <td>Images/blouse/e802cc5029e33753680e2937f8293a93...</td>\n",
       "      <td>blouse</td>\n",
       "      <td>191_179_1</td>\n",
       "      <td>269_168_1</td>\n",
       "      <td>235_205_1</td>\n",
       "      <td>161_191_1</td>\n",
       "      <td>300_172_1</td>\n",
       "      <td>177_246_1</td>\n",
       "      <td>305_231_1</td>\n",
       "      <td>184_307_1</td>\n",
       "      <td>...</td>\n",
       "      <td>340_440_1</td>\n",
       "      <td>213_328_1</td>\n",
       "      <td>328_319_1</td>\n",
       "      <td>184_495_1</td>\n",
       "      <td>340_497_1</td>\n",
       "      <td>285_459_1</td>\n",
       "      <td>296_492_1</td>\n",
       "      <td>212_493_1</td>\n",
       "      <td>283_501_1</td>\n",
       "      <td>342_476_1</td>\n",
       "    </tr>\n",
       "  </tbody>\n",
       "</table>\n",
       "<p>5 rows × 26 columns</p>\n",
       "</div>"
      ],
      "text/plain": [
       "                                            image_id image_category  \\\n",
       "0  Images/blouse/e21708ac483bc37679b26d064650bd40...         blouse   \n",
       "1  Images/blouse/6089d5c425308edaaf418a74c684a8fc...         blouse   \n",
       "2  Images/blouse/e6b066c5022da7666e1a0245b160f7a3...         blouse   \n",
       "3  Images/blouse/17eff8648aeceea2006d8ef9923e4722...         blouse   \n",
       "4  Images/blouse/e802cc5029e33753680e2937f8293a93...         blouse   \n",
       "\n",
       "  neckline_left neckline_right center_front shoulder_left shoulder_right  \\\n",
       "0      148_85_1       271_83_1    210_138_1     117_104_1      301_101_1   \n",
       "1     237_148_1      302_144_1    265_172_1     203_166_1      336_163_1   \n",
       "2     208_166_1      252_164_1    229_169_1     174_185_1      287_178_1   \n",
       "3      140_77_1       256_41_1     218_67_1      95_130_1       322_54_1   \n",
       "4     191_179_1      269_168_1    235_205_1     161_191_1      300_172_1   \n",
       "\n",
       "  armpit_left armpit_right waistline_left       ...        top_hem_right  \\\n",
       "0   126_195_1    297_190_1      131_268_1       ...            319_391_1   \n",
       "1   201_234_1    331_236_1      192_291_1       ...            334_372_1   \n",
       "2   180_238_1    283_236_1      177_281_1       ...            281_296_1   \n",
       "3   145_231_1    348_163_1      179_322_1       ...            393_315_1   \n",
       "4   177_246_1    305_231_1      184_307_1       ...            340_440_1   \n",
       "\n",
       "  waistband_left waistband_right hemline_left hemline_right     crotch  \\\n",
       "0      140_115_1       330_118_1    117_405_1     352_432_1  240_321_1   \n",
       "1      227_264_1       346_267_1    182_440_1     332_461_1  284_421_1   \n",
       "2      212_311_1       293_311_1    183_450_1     304_434_1  263_407_1   \n",
       "3      176_157_1       369_103_1    192_476_1     446_425_1  326_408_1   \n",
       "4      213_328_1       328_319_1    184_495_1     340_497_1  285_459_1   \n",
       "\n",
       "  bottom_left_in bottom_left_out bottom_right_in bottom_right_out  \n",
       "0      255_433_1       135_409_1       265_462_1        362_427_1  \n",
       "1      285_462_1       213_453_1       285_475_1        334_457_1  \n",
       "2      274_473_1       224_472_1       270_459_1        295_440_1  \n",
       "3      352_480_1       229_487_1       373_461_1        445_416_1  \n",
       "4      296_492_1       212_493_1       283_501_1        342_476_1  \n",
       "\n",
       "[5 rows x 26 columns]"
      ]
     },
     "execution_count": 44,
     "metadata": {},
     "output_type": "execute_result"
    }
   ],
   "source": [
    "submit_df.head()"
   ]
  },
  {
   "cell_type": "code",
   "execution_count": 45,
   "metadata": {},
   "outputs": [],
   "source": [
    "save_df_to_zip(submit_df, 'result.csv', index=False)"
   ]
  }
 ],
 "metadata": {
  "kernelspec": {
   "display_name": "Python 3",
   "language": "python",
   "name": "python3"
  },
  "language_info": {
   "codemirror_mode": {
    "name": "ipython",
    "version": 3
   },
   "file_extension": ".py",
   "mimetype": "text/x-python",
   "name": "python",
   "nbconvert_exporter": "python",
   "pygments_lexer": "ipython3",
   "version": "3.5.2"
  }
 },
 "nbformat": 4,
 "nbformat_minor": 2
}
